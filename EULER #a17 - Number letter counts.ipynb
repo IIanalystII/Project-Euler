{
 "cells": [
  {
   "cell_type": "markdown",
   "metadata": {},
   "source": [
    "# Problem 17 - Number letter counts\n",
    "If the numbers 1 to 5 are written out in words: one, two, three, four, five, then there are 3 + 3 + 5 + 4 + 4 = 19 letters used in total.\n",
    "\n",
    "If all the numbers from 1 to 1000 (one thousand) inclusive were written out in words, how many letters would be used?\n",
    "\n",
    "\n",
    "NOTE: Do not count spaces or hyphens. For example, 342 (three hundred and forty-two) contains 23 letters and 115 (one hundred and fifteen) contains 20 letters. The use of \"and\" when writing out numbers is in compliance with British usage."
   ]
  },
  {
   "cell_type": "code",
   "execution_count": 1,
   "metadata": {},
   "outputs": [
    {
     "data": {
      "text/plain": [
       "'one thousand'"
      ]
     },
     "execution_count": 1,
     "metadata": {},
     "output_type": "execute_result"
    }
   ],
   "source": [
    "''''one; two; three;...seventeen; eighteen; nineteen;'''\n",
    "'''twenty one; twenty two; twenty three;'''\n",
    "'''one hundred and one'''\n",
    "'''one hundred and forty two'''\n",
    "'''nine hundred and ninety nine'''\n",
    "'''one thousand'''"
   ]
  },
  {
   "cell_type": "code",
   "execution_count": 144,
   "metadata": {},
   "outputs": [],
   "source": [
    "teens = {0: '',\n",
    "         1: 'One', \n",
    "         2: 'Two', \n",
    "         3: 'Three', \n",
    "         4: 'Four', \n",
    "         5: 'Five',\n",
    "         6: 'Six', \n",
    "         7: 'Seven', \n",
    "         8: 'Eight', \n",
    "         9: 'Nine'} \n",
    "         \n",
    "\n",
    "tens = {10: 'Ten',\n",
    "        11: 'Eleven', \n",
    "        12: 'Twelve', \n",
    "        13: 'Thirteen', \n",
    "        14: 'Fourteen',\n",
    "        15: 'Fifteen', \n",
    "        16: 'Sixteen', \n",
    "        17: 'Seventeen', \n",
    "        18: 'Eighteen', \n",
    "        19: 'Nineteen',\n",
    "         2: 'Twenty', \n",
    "         3: 'Thirty', \n",
    "         4: 'Forty', \n",
    "         5: 'Fifty', \n",
    "         6: 'Sixty', \n",
    "         7: 'Seventy', \n",
    "         8: 'Eighty', \n",
    "         9: 'Ninety'}\n",
    "\n",
    "hundreds = {1: 'OneHundredand', \n",
    "            2: 'TwoHundredand', \n",
    "            3: 'ThreeHundredand', \n",
    "            4: 'FourHundredand', \n",
    "            5: 'FiveHundredand',\n",
    "            6: 'Sixhundredand', \n",
    "            7: 'SevenHundredand', \n",
    "            8: 'EightHundredand', \n",
    "            9: 'NineHundredand'}"
   ]
  },
  {
   "cell_type": "code",
   "execution_count": 154,
   "metadata": {},
   "outputs": [],
   "source": [
    "def num_name(n):\n",
    "    if n < 100:\n",
    "        if n // 10 == 0:\n",
    "            return str(teens [n])\n",
    "        elif n // 10 == 1:\n",
    "            return str(tens [n])\n",
    "        else:\n",
    "            return str(tens [n // 10]) + teens [n % 10]\n",
    "    if n % 100 == 0 and n != 1000:\n",
    "        return str(teens [n // 100]) + 'Hundred'\n",
    "    if n > 100 and n < 1000:\n",
    "        if n % 100 < 10:\n",
    "            return str(hundreds [n // 100]) + teens [n % 100]\n",
    "        if n % 100 > 9 and n % 100 < 20:\n",
    "            return str(hundreds [n // 100]) + tens [n % 100]\n",
    "        if n % 100 > 19:\n",
    "            return str(hundreds [n //100]) + tens [n % 100 // 10] + teens [n % 100 % 10]\n",
    "    if n == 1000:\n",
    "        return str('onethousand')"
   ]
  },
  {
   "cell_type": "code",
   "execution_count": 159,
   "metadata": {},
   "outputs": [
    {
     "data": {
      "text/plain": [
       "'NinetyNine'"
      ]
     },
     "execution_count": 159,
     "metadata": {},
     "output_type": "execute_result"
    }
   ],
   "source": [
    "num_name(99)"
   ]
  },
  {
   "cell_type": "code",
   "execution_count": 160,
   "metadata": {},
   "outputs": [],
   "source": [
    "text = ''\n",
    "for i in range(1,1001,1):\n",
    "    text += num_name(i)"
   ]
  },
  {
   "cell_type": "code",
   "execution_count": 162,
   "metadata": {},
   "outputs": [
    {
     "data": {
      "text/plain": [
       "21124"
      ]
     },
     "execution_count": 162,
     "metadata": {},
     "output_type": "execute_result"
    }
   ],
   "source": [
    "len(text)"
   ]
  },
  {
   "cell_type": "code",
   "execution_count": 163,
   "metadata": {},
   "outputs": [
    {
     "data": {
      "text/plain": [
       "'OneTwoThreeFourFiveSixSevenEightNineTenElevenTwelveThirteenFourteenFifteenSixteenSeventeenEighteenNineteenTwentyTwentyOneTwentyTwoTwentyThreeTwentyFourTwentyFiveTwentySixTwentySevenTwentyEightTwentyNineThirtyThirtyOneThirtyTwoThirtyThreeThirtyFourThirtyFiveThirtySixThirtySevenThirtyEightThirtyNineFortyFortyOneFortyTwoFortyThreeFortyFourFortyFiveFortySixFortySevenFortyEightFortyNineFiftyFiftyOneFiftyTwoFiftyThreeFiftyFourFiftyFiveFiftySixFiftySevenFiftyEightFiftyNineSixtySixtyOneSixtyTwoSixtyThreeSixtyFourSixtyFiveSixtySixSixtySevenSixtyEightSixtyNineSeventySeventyOneSeventyTwoSeventyThreeSeventyFourSeventyFiveSeventySixSeventySevenSeventyEightSeventyNineEightyEightyOneEightyTwoEightyThreeEightyFourEightyFiveEightySixEightySevenEightyEightEightyNineNinetyNinetyOneNinetyTwoNinetyThreeNinetyFourNinetyFiveNinetySixNinetySevenNinetyEightNinetyNineOneHundredOneHundredandOneOneHundredandTwoOneHundredandThreeOneHundredandFourOneHundredandFiveOneHundredandSixOneHundredandSevenOneHundredandEightOneHundredandNineOneHundredandTenOneHundredandElevenOneHundredandTwelveOneHundredandThirteenOneHundredandFourteenOneHundredandFifteenOneHundredandSixteenOneHundredandSeventeenOneHundredandEighteenOneHundredandNineteenOneHundredandTwentyOneHundredandTwentyOneOneHundredandTwentyTwoOneHundredandTwentyThreeOneHundredandTwentyFourOneHundredandTwentyFiveOneHundredandTwentySixOneHundredandTwentySevenOneHundredandTwentyEightOneHundredandTwentyNineOneHundredandThirtyOneHundredandThirtyOneOneHundredandThirtyTwoOneHundredandThirtyThreeOneHundredandThirtyFourOneHundredandThirtyFiveOneHundredandThirtySixOneHundredandThirtySevenOneHundredandThirtyEightOneHundredandThirtyNineOneHundredandFortyOneHundredandFortyOneOneHundredandFortyTwoOneHundredandFortyThreeOneHundredandFortyFourOneHundredandFortyFiveOneHundredandFortySixOneHundredandFortySevenOneHundredandFortyEightOneHundredandFortyNineOneHundredandFiftyOneHundredandFiftyOneOneHundredandFiftyTwoOneHundredandFiftyThreeOneHundredandFiftyFourOneHundredandFiftyFiveOneHundredandFiftySixOneHundredandFiftySevenOneHundredandFiftyEightOneHundredandFiftyNineOneHundredandSixtyOneHundredandSixtyOneOneHundredandSixtyTwoOneHundredandSixtyThreeOneHundredandSixtyFourOneHundredandSixtyFiveOneHundredandSixtySixOneHundredandSixtySevenOneHundredandSixtyEightOneHundredandSixtyNineOneHundredandSeventyOneHundredandSeventyOneOneHundredandSeventyTwoOneHundredandSeventyThreeOneHundredandSeventyFourOneHundredandSeventyFiveOneHundredandSeventySixOneHundredandSeventySevenOneHundredandSeventyEightOneHundredandSeventyNineOneHundredandEightyOneHundredandEightyOneOneHundredandEightyTwoOneHundredandEightyThreeOneHundredandEightyFourOneHundredandEightyFiveOneHundredandEightySixOneHundredandEightySevenOneHundredandEightyEightOneHundredandEightyNineOneHundredandNinetyOneHundredandNinetyOneOneHundredandNinetyTwoOneHundredandNinetyThreeOneHundredandNinetyFourOneHundredandNinetyFiveOneHundredandNinetySixOneHundredandNinetySevenOneHundredandNinetyEightOneHundredandNinetyNineTwoHundredTwoHundredandOneTwoHundredandTwoTwoHundredandThreeTwoHundredandFourTwoHundredandFiveTwoHundredandSixTwoHundredandSevenTwoHundredandEightTwoHundredandNineTwoHundredandTenTwoHundredandElevenTwoHundredandTwelveTwoHundredandThirteenTwoHundredandFourteenTwoHundredandFifteenTwoHundredandSixteenTwoHundredandSeventeenTwoHundredandEighteenTwoHundredandNineteenTwoHundredandTwentyTwoHundredandTwentyOneTwoHundredandTwentyTwoTwoHundredandTwentyThreeTwoHundredandTwentyFourTwoHundredandTwentyFiveTwoHundredandTwentySixTwoHundredandTwentySevenTwoHundredandTwentyEightTwoHundredandTwentyNineTwoHundredandThirtyTwoHundredandThirtyOneTwoHundredandThirtyTwoTwoHundredandThirtyThreeTwoHundredandThirtyFourTwoHundredandThirtyFiveTwoHundredandThirtySixTwoHundredandThirtySevenTwoHundredandThirtyEightTwoHundredandThirtyNineTwoHundredandFortyTwoHundredandFortyOneTwoHundredandFortyTwoTwoHundredandFortyThreeTwoHundredandFortyFourTwoHundredandFortyFiveTwoHundredandFortySixTwoHundredandFortySevenTwoHundredandFortyEightTwoHundredandFortyNineTwoHundredandFiftyTwoHundredandFiftyOneTwoHundredandFiftyTwoTwoHundredandFiftyThreeTwoHundredandFiftyFourTwoHundredandFiftyFiveTwoHundredandFiftySixTwoHundredandFiftySevenTwoHundredandFiftyEightTwoHundredandFiftyNineTwoHundredandSixtyTwoHundredandSixtyOneTwoHundredandSixtyTwoTwoHundredandSixtyThreeTwoHundredandSixtyFourTwoHundredandSixtyFiveTwoHundredandSixtySixTwoHundredandSixtySevenTwoHundredandSixtyEightTwoHundredandSixtyNineTwoHundredandSeventyTwoHundredandSeventyOneTwoHundredandSeventyTwoTwoHundredandSeventyThreeTwoHundredandSeventyFourTwoHundredandSeventyFiveTwoHundredandSeventySixTwoHundredandSeventySevenTwoHundredandSeventyEightTwoHundredandSeventyNineTwoHundredandEightyTwoHundredandEightyOneTwoHundredandEightyTwoTwoHundredandEightyThreeTwoHundredandEightyFourTwoHundredandEightyFiveTwoHundredandEightySixTwoHundredandEightySevenTwoHundredandEightyEightTwoHundredandEightyNineTwoHundredandNinetyTwoHundredandNinetyOneTwoHundredandNinetyTwoTwoHundredandNinetyThreeTwoHundredandNinetyFourTwoHundredandNinetyFiveTwoHundredandNinetySixTwoHundredandNinetySevenTwoHundredandNinetyEightTwoHundredandNinetyNineThreeHundredThreeHundredandOneThreeHundredandTwoThreeHundredandThreeThreeHundredandFourThreeHundredandFiveThreeHundredandSixThreeHundredandSevenThreeHundredandEightThreeHundredandNineThreeHundredandTenThreeHundredandElevenThreeHundredandTwelveThreeHundredandThirteenThreeHundredandFourteenThreeHundredandFifteenThreeHundredandSixteenThreeHundredandSeventeenThreeHundredandEighteenThreeHundredandNineteenThreeHundredandTwentyThreeHundredandTwentyOneThreeHundredandTwentyTwoThreeHundredandTwentyThreeThreeHundredandTwentyFourThreeHundredandTwentyFiveThreeHundredandTwentySixThreeHundredandTwentySevenThreeHundredandTwentyEightThreeHundredandTwentyNineThreeHundredandThirtyThreeHundredandThirtyOneThreeHundredandThirtyTwoThreeHundredandThirtyThreeThreeHundredandThirtyFourThreeHundredandThirtyFiveThreeHundredandThirtySixThreeHundredandThirtySevenThreeHundredandThirtyEightThreeHundredandThirtyNineThreeHundredandFortyThreeHundredandFortyOneThreeHundredandFortyTwoThreeHundredandFortyThreeThreeHundredandFortyFourThreeHundredandFortyFiveThreeHundredandFortySixThreeHundredandFortySevenThreeHundredandFortyEightThreeHundredandFortyNineThreeHundredandFiftyThreeHundredandFiftyOneThreeHundredandFiftyTwoThreeHundredandFiftyThreeThreeHundredandFiftyFourThreeHundredandFiftyFiveThreeHundredandFiftySixThreeHundredandFiftySevenThreeHundredandFiftyEightThreeHundredandFiftyNineThreeHundredandSixtyThreeHundredandSixtyOneThreeHundredandSixtyTwoThreeHundredandSixtyThreeThreeHundredandSixtyFourThreeHundredandSixtyFiveThreeHundredandSixtySixThreeHundredandSixtySevenThreeHundredandSixtyEightThreeHundredandSixtyNineThreeHundredandSeventyThreeHundredandSeventyOneThreeHundredandSeventyTwoThreeHundredandSeventyThreeThreeHundredandSeventyFourThreeHundredandSeventyFiveThreeHundredandSeventySixThreeHundredandSeventySevenThreeHundredandSeventyEightThreeHundredandSeventyNineThreeHundredandEightyThreeHundredandEightyOneThreeHundredandEightyTwoThreeHundredandEightyThreeThreeHundredandEightyFourThreeHundredandEightyFiveThreeHundredandEightySixThreeHundredandEightySevenThreeHundredandEightyEightThreeHundredandEightyNineThreeHundredandNinetyThreeHundredandNinetyOneThreeHundredandNinetyTwoThreeHundredandNinetyThreeThreeHundredandNinetyFourThreeHundredandNinetyFiveThreeHundredandNinetySixThreeHundredandNinetySevenThreeHundredandNinetyEightThreeHundredandNinetyNineFourHundredFourHundredandOneFourHundredandTwoFourHundredandThreeFourHundredandFourFourHundredandFiveFourHundredandSixFourHundredandSevenFourHundredandEightFourHundredandNineFourHundredandTenFourHundredandElevenFourHundredandTwelveFourHundredandThirteenFourHundredandFourteenFourHundredandFifteenFourHundredandSixteenFourHundredandSeventeenFourHundredandEighteenFourHundredandNineteenFourHundredandTwentyFourHundredandTwentyOneFourHundredandTwentyTwoFourHundredandTwentyThreeFourHundredandTwentyFourFourHundredandTwentyFiveFourHundredandTwentySixFourHundredandTwentySevenFourHundredandTwentyEightFourHundredandTwentyNineFourHundredandThirtyFourHundredandThirtyOneFourHundredandThirtyTwoFourHundredandThirtyThreeFourHundredandThirtyFourFourHundredandThirtyFiveFourHundredandThirtySixFourHundredandThirtySevenFourHundredandThirtyEightFourHundredandThirtyNineFourHundredandFortyFourHundredandFortyOneFourHundredandFortyTwoFourHundredandFortyThreeFourHundredandFortyFourFourHundredandFortyFiveFourHundredandFortySixFourHundredandFortySevenFourHundredandFortyEightFourHundredandFortyNineFourHundredandFiftyFourHundredandFiftyOneFourHundredandFiftyTwoFourHundredandFiftyThreeFourHundredandFiftyFourFourHundredandFiftyFiveFourHundredandFiftySixFourHundredandFiftySevenFourHundredandFiftyEightFourHundredandFiftyNineFourHundredandSixtyFourHundredandSixtyOneFourHundredandSixtyTwoFourHundredandSixtyThreeFourHundredandSixtyFourFourHundredandSixtyFiveFourHundredandSixtySixFourHundredandSixtySevenFourHundredandSixtyEightFourHundredandSixtyNineFourHundredandSeventyFourHundredandSeventyOneFourHundredandSeventyTwoFourHundredandSeventyThreeFourHundredandSeventyFourFourHundredandSeventyFiveFourHundredandSeventySixFourHundredandSeventySevenFourHundredandSeventyEightFourHundredandSeventyNineFourHundredandEightyFourHundredandEightyOneFourHundredandEightyTwoFourHundredandEightyThreeFourHundredandEightyFourFourHundredandEightyFiveFourHundredandEightySixFourHundredandEightySevenFourHundredandEightyEightFourHundredandEightyNineFourHundredandNinetyFourHundredandNinetyOneFourHundredandNinetyTwoFourHundredandNinetyThreeFourHundredandNinetyFourFourHundredandNinetyFiveFourHundredandNinetySixFourHundredandNinetySevenFourHundredandNinetyEightFourHundredandNinetyNineFiveHundredFiveHundredandOneFiveHundredandTwoFiveHundredandThreeFiveHundredandFourFiveHundredandFiveFiveHundredandSixFiveHundredandSevenFiveHundredandEightFiveHundredandNineFiveHundredandTenFiveHundredandElevenFiveHundredandTwelveFiveHundredandThirteenFiveHundredandFourteenFiveHundredandFifteenFiveHundredandSixteenFiveHundredandSeventeenFiveHundredandEighteenFiveHundredandNineteenFiveHundredandTwentyFiveHundredandTwentyOneFiveHundredandTwentyTwoFiveHundredandTwentyThreeFiveHundredandTwentyFourFiveHundredandTwentyFiveFiveHundredandTwentySixFiveHundredandTwentySevenFiveHundredandTwentyEightFiveHundredandTwentyNineFiveHundredandThirtyFiveHundredandThirtyOneFiveHundredandThirtyTwoFiveHundredandThirtyThreeFiveHundredandThirtyFourFiveHundredandThirtyFiveFiveHundredandThirtySixFiveHundredandThirtySevenFiveHundredandThirtyEightFiveHundredandThirtyNineFiveHundredandFortyFiveHundredandFortyOneFiveHundredandFortyTwoFiveHundredandFortyThreeFiveHundredandFortyFourFiveHundredandFortyFiveFiveHundredandFortySixFiveHundredandFortySevenFiveHundredandFortyEightFiveHundredandFortyNineFiveHundredandFiftyFiveHundredandFiftyOneFiveHundredandFiftyTwoFiveHundredandFiftyThreeFiveHundredandFiftyFourFiveHundredandFiftyFiveFiveHundredandFiftySixFiveHundredandFiftySevenFiveHundredandFiftyEightFiveHundredandFiftyNineFiveHundredandSixtyFiveHundredandSixtyOneFiveHundredandSixtyTwoFiveHundredandSixtyThreeFiveHundredandSixtyFourFiveHundredandSixtyFiveFiveHundredandSixtySixFiveHundredandSixtySevenFiveHundredandSixtyEightFiveHundredandSixtyNineFiveHundredandSeventyFiveHundredandSeventyOneFiveHundredandSeventyTwoFiveHundredandSeventyThreeFiveHundredandSeventyFourFiveHundredandSeventyFiveFiveHundredandSeventySixFiveHundredandSeventySevenFiveHundredandSeventyEightFiveHundredandSeventyNineFiveHundredandEightyFiveHundredandEightyOneFiveHundredandEightyTwoFiveHundredandEightyThreeFiveHundredandEightyFourFiveHundredandEightyFiveFiveHundredandEightySixFiveHundredandEightySevenFiveHundredandEightyEightFiveHundredandEightyNineFiveHundredandNinetyFiveHundredandNinetyOneFiveHundredandNinetyTwoFiveHundredandNinetyThreeFiveHundredandNinetyFourFiveHundredandNinetyFiveFiveHundredandNinetySixFiveHundredandNinetySevenFiveHundredandNinetyEightFiveHundredandNinetyNineSixHundredSixhundredandOneSixhundredandTwoSixhundredandThreeSixhundredandFourSixhundredandFiveSixhundredandSixSixhundredandSevenSixhundredandEightSixhundredandNineSixhundredandTenSixhundredandElevenSixhundredandTwelveSixhundredandThirteenSixhundredandFourteenSixhundredandFifteenSixhundredandSixteenSixhundredandSeventeenSixhundredandEighteenSixhundredandNineteenSixhundredandTwentySixhundredandTwentyOneSixhundredandTwentyTwoSixhundredandTwentyThreeSixhundredandTwentyFourSixhundredandTwentyFiveSixhundredandTwentySixSixhundredandTwentySevenSixhundredandTwentyEightSixhundredandTwentyNineSixhundredandThirtySixhundredandThirtyOneSixhundredandThirtyTwoSixhundredandThirtyThreeSixhundredandThirtyFourSixhundredandThirtyFiveSixhundredandThirtySixSixhundredandThirtySevenSixhundredandThirtyEightSixhundredandThirtyNineSixhundredandFortySixhundredandFortyOneSixhundredandFortyTwoSixhundredandFortyThreeSixhundredandFortyFourSixhundredandFortyFiveSixhundredandFortySixSixhundredandFortySevenSixhundredandFortyEightSixhundredandFortyNineSixhundredandFiftySixhundredandFiftyOneSixhundredandFiftyTwoSixhundredandFiftyThreeSixhundredandFiftyFourSixhundredandFiftyFiveSixhundredandFiftySixSixhundredandFiftySevenSixhundredandFiftyEightSixhundredandFiftyNineSixhundredandSixtySixhundredandSixtyOneSixhundredandSixtyTwoSixhundredandSixtyThreeSixhundredandSixtyFourSixhundredandSixtyFiveSixhundredandSixtySixSixhundredandSixtySevenSixhundredandSixtyEightSixhundredandSixtyNineSixhundredandSeventySixhundredandSeventyOneSixhundredandSeventyTwoSixhundredandSeventyThreeSixhundredandSeventyFourSixhundredandSeventyFiveSixhundredandSeventySixSixhundredandSeventySevenSixhundredandSeventyEightSixhundredandSeventyNineSixhundredandEightySixhundredandEightyOneSixhundredandEightyTwoSixhundredandEightyThreeSixhundredandEightyFourSixhundredandEightyFiveSixhundredandEightySixSixhundredandEightySevenSixhundredandEightyEightSixhundredandEightyNineSixhundredandNinetySixhundredandNinetyOneSixhundredandNinetyTwoSixhundredandNinetyThreeSixhundredandNinetyFourSixhundredandNinetyFiveSixhundredandNinetySixSixhundredandNinetySevenSixhundredandNinetyEightSixhundredandNinetyNineSevenHundredSevenHundredandOneSevenHundredandTwoSevenHundredandThreeSevenHundredandFourSevenHundredandFiveSevenHundredandSixSevenHundredandSevenSevenHundredandEightSevenHundredandNineSevenHundredandTenSevenHundredandElevenSevenHundredandTwelveSevenHundredandThirteenSevenHundredandFourteenSevenHundredandFifteenSevenHundredandSixteenSevenHundredandSeventeenSevenHundredandEighteenSevenHundredandNineteenSevenHundredandTwentySevenHundredandTwentyOneSevenHundredandTwentyTwoSevenHundredandTwentyThreeSevenHundredandTwentyFourSevenHundredandTwentyFiveSevenHundredandTwentySixSevenHundredandTwentySevenSevenHundredandTwentyEightSevenHundredandTwentyNineSevenHundredandThirtySevenHundredandThirtyOneSevenHundredandThirtyTwoSevenHundredandThirtyThreeSevenHundredandThirtyFourSevenHundredandThirtyFiveSevenHundredandThirtySixSevenHundredandThirtySevenSevenHundredandThirtyEightSevenHundredandThirtyNineSevenHundredandFortySevenHundredandFortyOneSevenHundredandFortyTwoSevenHundredandFortyThreeSevenHundredandFortyFourSevenHundredandFortyFiveSevenHundredandFortySixSevenHundredandFortySevenSevenHundredandFortyEightSevenHundredandFortyNineSevenHundredandFiftySevenHundredandFiftyOneSevenHundredandFiftyTwoSevenHundredandFiftyThreeSevenHundredandFiftyFourSevenHundredandFiftyFiveSevenHundredandFiftySixSevenHundredandFiftySevenSevenHundredandFiftyEightSevenHundredandFiftyNineSevenHundredandSixtySevenHundredandSixtyOneSevenHundredandSixtyTwoSevenHundredandSixtyThreeSevenHundredandSixtyFourSevenHundredandSixtyFiveSevenHundredandSixtySixSevenHundredandSixtySevenSevenHundredandSixtyEightSevenHundredandSixtyNineSevenHundredandSeventySevenHundredandSeventyOneSevenHundredandSeventyTwoSevenHundredandSeventyThreeSevenHundredandSeventyFourSevenHundredandSeventyFiveSevenHundredandSeventySixSevenHundredandSeventySevenSevenHundredandSeventyEightSevenHundredandSeventyNineSevenHundredandEightySevenHundredandEightyOneSevenHundredandEightyTwoSevenHundredandEightyThreeSevenHundredandEightyFourSevenHundredandEightyFiveSevenHundredandEightySixSevenHundredandEightySevenSevenHundredandEightyEightSevenHundredandEightyNineSevenHundredandNinetySevenHundredandNinetyOneSevenHundredandNinetyTwoSevenHundredandNinetyThreeSevenHundredandNinetyFourSevenHundredandNinetyFiveSevenHundredandNinetySixSevenHundredandNinetySevenSevenHundredandNinetyEightSevenHundredandNinetyNineEightHundredEightHundredandOneEightHundredandTwoEightHundredandThreeEightHundredandFourEightHundredandFiveEightHundredandSixEightHundredandSevenEightHundredandEightEightHundredandNineEightHundredandTenEightHundredandElevenEightHundredandTwelveEightHundredandThirteenEightHundredandFourteenEightHundredandFifteenEightHundredandSixteenEightHundredandSeventeenEightHundredandEighteenEightHundredandNineteenEightHundredandTwentyEightHundredandTwentyOneEightHundredandTwentyTwoEightHundredandTwentyThreeEightHundredandTwentyFourEightHundredandTwentyFiveEightHundredandTwentySixEightHundredandTwentySevenEightHundredandTwentyEightEightHundredandTwentyNineEightHundredandThirtyEightHundredandThirtyOneEightHundredandThirtyTwoEightHundredandThirtyThreeEightHundredandThirtyFourEightHundredandThirtyFiveEightHundredandThirtySixEightHundredandThirtySevenEightHundredandThirtyEightEightHundredandThirtyNineEightHundredandFortyEightHundredandFortyOneEightHundredandFortyTwoEightHundredandFortyThreeEightHundredandFortyFourEightHundredandFortyFiveEightHundredandFortySixEightHundredandFortySevenEightHundredandFortyEightEightHundredandFortyNineEightHundredandFiftyEightHundredandFiftyOneEightHundredandFiftyTwoEightHundredandFiftyThreeEightHundredandFiftyFourEightHundredandFiftyFiveEightHundredandFiftySixEightHundredandFiftySevenEightHundredandFiftyEightEightHundredandFiftyNineEightHundredandSixtyEightHundredandSixtyOneEightHundredandSixtyTwoEightHundredandSixtyThreeEightHundredandSixtyFourEightHundredandSixtyFiveEightHundredandSixtySixEightHundredandSixtySevenEightHundredandSixtyEightEightHundredandSixtyNineEightHundredandSeventyEightHundredandSeventyOneEightHundredandSeventyTwoEightHundredandSeventyThreeEightHundredandSeventyFourEightHundredandSeventyFiveEightHundredandSeventySixEightHundredandSeventySevenEightHundredandSeventyEightEightHundredandSeventyNineEightHundredandEightyEightHundredandEightyOneEightHundredandEightyTwoEightHundredandEightyThreeEightHundredandEightyFourEightHundredandEightyFiveEightHundredandEightySixEightHundredandEightySevenEightHundredandEightyEightEightHundredandEightyNineEightHundredandNinetyEightHundredandNinetyOneEightHundredandNinetyTwoEightHundredandNinetyThreeEightHundredandNinetyFourEightHundredandNinetyFiveEightHundredandNinetySixEightHundredandNinetySevenEightHundredandNinetyEightEightHundredandNinetyNineNineHundredNineHundredandOneNineHundredandTwoNineHundredandThreeNineHundredandFourNineHundredandFiveNineHundredandSixNineHundredandSevenNineHundredandEightNineHundredandNineNineHundredandTenNineHundredandElevenNineHundredandTwelveNineHundredandThirteenNineHundredandFourteenNineHundredandFifteenNineHundredandSixteenNineHundredandSeventeenNineHundredandEighteenNineHundredandNineteenNineHundredandTwentyNineHundredandTwentyOneNineHundredandTwentyTwoNineHundredandTwentyThreeNineHundredandTwentyFourNineHundredandTwentyFiveNineHundredandTwentySixNineHundredandTwentySevenNineHundredandTwentyEightNineHundredandTwentyNineNineHundredandThirtyNineHundredandThirtyOneNineHundredandThirtyTwoNineHundredandThirtyThreeNineHundredandThirtyFourNineHundredandThirtyFiveNineHundredandThirtySixNineHundredandThirtySevenNineHundredandThirtyEightNineHundredandThirtyNineNineHundredandFortyNineHundredandFortyOneNineHundredandFortyTwoNineHundredandFortyThreeNineHundredandFortyFourNineHundredandFortyFiveNineHundredandFortySixNineHundredandFortySevenNineHundredandFortyEightNineHundredandFortyNineNineHundredandFiftyNineHundredandFiftyOneNineHundredandFiftyTwoNineHundredandFiftyThreeNineHundredandFiftyFourNineHundredandFiftyFiveNineHundredandFiftySixNineHundredandFiftySevenNineHundredandFiftyEightNineHundredandFiftyNineNineHundredandSixtyNineHundredandSixtyOneNineHundredandSixtyTwoNineHundredandSixtyThreeNineHundredandSixtyFourNineHundredandSixtyFiveNineHundredandSixtySixNineHundredandSixtySevenNineHundredandSixtyEightNineHundredandSixtyNineNineHundredandSeventyNineHundredandSeventyOneNineHundredandSeventyTwoNineHundredandSeventyThreeNineHundredandSeventyFourNineHundredandSeventyFiveNineHundredandSeventySixNineHundredandSeventySevenNineHundredandSeventyEightNineHundredandSeventyNineNineHundredandEightyNineHundredandEightyOneNineHundredandEightyTwoNineHundredandEightyThreeNineHundredandEightyFourNineHundredandEightyFiveNineHundredandEightySixNineHundredandEightySevenNineHundredandEightyEightNineHundredandEightyNineNineHundredandNinetyNineHundredandNinetyOneNineHundredandNinetyTwoNineHundredandNinetyThreeNineHundredandNinetyFourNineHundredandNinetyFiveNineHundredandNinetySixNineHundredandNinetySevenNineHundredandNinetyEightNineHundredandNinetyNineonethousand'"
      ]
     },
     "execution_count": 163,
     "metadata": {},
     "output_type": "execute_result"
    }
   ],
   "source": [
    "text"
   ]
  },
  {
   "cell_type": "code",
   "execution_count": null,
   "metadata": {},
   "outputs": [],
   "source": []
  }
 ],
 "metadata": {
  "kernelspec": {
   "display_name": "Python 3",
   "language": "python",
   "name": "python3"
  },
  "language_info": {
   "codemirror_mode": {
    "name": "ipython",
    "version": 3
   },
   "file_extension": ".py",
   "mimetype": "text/x-python",
   "name": "python",
   "nbconvert_exporter": "python",
   "pygments_lexer": "ipython3",
   "version": "3.8.5"
  }
 },
 "nbformat": 4,
 "nbformat_minor": 4
}
