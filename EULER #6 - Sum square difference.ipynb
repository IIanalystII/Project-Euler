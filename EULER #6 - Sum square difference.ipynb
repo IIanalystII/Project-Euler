{
 "cells": [
  {
   "cell_type": "markdown",
   "metadata": {},
   "source": [
    "# Problem 6 - Sum Square Difference\n",
    "1. The sum of the squares of the first ten natural numbers is, \n",
    "    385\n",
    "2. The square of the sum of the first ten natural numbers is,\n",
    "    3025\n",
    "3. Hence the difference between the sum of the squares of the first ten natural numbers and the square of the sum is\n",
    "    3025 - 385 = 2640\n",
    "4. Find the difference between the sum of the squares of the first one hundred natural numbers and the square of the sum."
   ]
  },
  {
   "cell_type": "code",
   "execution_count": 15,
   "metadata": {},
   "outputs": [
    {
     "data": {
      "text/plain": [
       "25164150"
      ]
     },
     "execution_count": 15,
     "metadata": {},
     "output_type": "execute_result"
    }
   ],
   "source": [
    "sq_list = []\n",
    "sum_list = []\n",
    "for i in range(1,101,1):\n",
    "    sq_list.append(i**2)\n",
    "    sum_list.append(i)\n",
    "sum(sum_list)**2 - sum(sq_list)"
   ]
  },
  {
   "cell_type": "code",
   "execution_count": null,
   "metadata": {},
   "outputs": [],
   "source": []
  }
 ],
 "metadata": {
  "kernelspec": {
   "display_name": "Python 3",
   "language": "python",
   "name": "python3"
  },
  "language_info": {
   "codemirror_mode": {
    "name": "ipython",
    "version": 3
   },
   "file_extension": ".py",
   "mimetype": "text/x-python",
   "name": "python",
   "nbconvert_exporter": "python",
   "pygments_lexer": "ipython3",
   "version": "3.8.5"
  }
 },
 "nbformat": 4,
 "nbformat_minor": 4
}
