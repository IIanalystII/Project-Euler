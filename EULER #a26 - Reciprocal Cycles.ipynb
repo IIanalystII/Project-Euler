{
 "cells": [
  {
   "cell_type": "markdown",
   "metadata": {},
   "source": [
    "# Problem 26 - Reciprocal Cycles\n",
    "\n",
    "A unit fraction contains 1 in the numerator. The decimal representation of the unit fractions with denominators 2 to 10 are given:\n",
    "\n",
    "1/2\t= \t0.5\n",
    "1/3\t= \t0.(3)\n",
    "1/4\t= \t0.25\n",
    "1/5\t= \t0.2\n",
    "1/6\t= \t0.1(6)\n",
    "1/7\t= \t0.(142857)\n",
    "1/8\t= \t0.125\n",
    "1/9\t= \t0.(1)\n",
    "1/10\t= \t0.1\n",
    "Where 0.1(6) means 0.166666..., and has a 1-digit recurring cycle. It can be seen that 1/7 has a 6-digit recurring cycle.\n",
    "\n",
    "Find the value of d < 1000 for which 1/d contains the longest recurring cycle in its decimal fraction part."
   ]
  },
  {
   "cell_type": "code",
   "execution_count": 65,
   "metadata": {},
   "outputs": [],
   "source": [
    "# Python3 program to find repeating \n",
    "# sequence in a fraction\n",
    " \n",
    "# This function returns repeating sequence \n",
    "# of a fraction.If repeating sequence doesn't\n",
    "# exits, then returns empty string\n",
    "def fractionToDecimal(numr, denr):\n",
    "     \n",
    "    # Initialize result\n",
    "    res = \"\" \n",
    "  \n",
    "    # Create a map to store already seen\n",
    "    # remainders. Remainder is used as key\n",
    "    # and its position in result is stored \n",
    "    # as value. Note that we need position\n",
    "    # for cases like 1/6.  In this case,\n",
    "    # the recurring sequence doesn't start\n",
    "    # from first remainder.\n",
    "    mp = {}\n",
    "  \n",
    "    # Find first remainder\n",
    "    rem = numr % denr\n",
    "  \n",
    "    # Keep finding remainder until either\n",
    "    # remainder becomes 0 or repeats\n",
    "    while ((rem != 0) and (rem not in mp)):\n",
    "         \n",
    "        # Store this remainder\n",
    "        mp[rem] = len(res)\n",
    "         \n",
    "        # Multiply remainder with 10\n",
    "        rem = rem * 10\n",
    "  \n",
    "        # Append rem / denr to result\n",
    "        res_part = rem // denr\n",
    "        res += str(res_part)\n",
    "  \n",
    "        # Update remainder\n",
    "        rem = rem % denr\n",
    "     \n",
    "    if (rem == 0):\n",
    "        return \"\"\n",
    "    else:\n",
    "        return res[mp[rem]:]"
   ]
  },
  {
   "cell_type": "code",
   "execution_count": 67,
   "metadata": {},
   "outputs": [
    {
     "data": {
      "text/plain": [
       "'142857'"
      ]
     },
     "execution_count": 67,
     "metadata": {},
     "output_type": "execute_result"
    }
   ],
   "source": [
    "fractionToDecimal(1,7)"
   ]
  },
  {
   "cell_type": "code",
   "execution_count": 68,
   "metadata": {},
   "outputs": [],
   "source": [
    "list = []\n",
    "for i in range(1,1001,1):\n",
    "    numr, denr, = 1, i\n",
    "    res = fractionToDecimal(numr,denr)\n",
    "    if (res == \"\"):\n",
    "        pass\n",
    "    else:\n",
    "        list.append((len(res), i))"
   ]
  },
  {
   "cell_type": "code",
   "execution_count": 105,
   "metadata": {},
   "outputs": [
    {
     "data": {
      "text/plain": [
       "(982, 983)"
      ]
     },
     "execution_count": 105,
     "metadata": {},
     "output_type": "execute_result"
    }
   ],
   "source": [
    "max(list)"
   ]
  }
 ],
 "metadata": {
  "kernelspec": {
   "display_name": "Python 3",
   "language": "python",
   "name": "python3"
  },
  "language_info": {
   "codemirror_mode": {
    "name": "ipython",
    "version": 3
   },
   "file_extension": ".py",
   "mimetype": "text/x-python",
   "name": "python",
   "nbconvert_exporter": "python",
   "pygments_lexer": "ipython3",
   "version": "3.8.5"
  }
 },
 "nbformat": 4,
 "nbformat_minor": 4
}
