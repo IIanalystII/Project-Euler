{
 "cells": [
  {
   "cell_type": "markdown",
   "metadata": {},
   "source": [
    "# Problem 11 - Largest Product in a Grid\n",
    "In the 20×20 grid below, four numbers along a diagonal line have been marked in red.\n",
    "\n",
    "08 02 22 97 38 15 00 40 00 75 04 05 07 78 52 12 50 77 91 08\n",
    "49 49 99 40 17 81 18 57 60 87 17 40 98 43 69 48 04 56 62 00\n",
    "81 49 31 73 55 79 14 29 93 71 40 67 53 88 30 03 49 13 36 65\n",
    "52 70 95 23 04 60 11 42 69 24 68 56 01 32 56 71 37 02 36 91\n",
    "22 31 16 71 51 67 63 89 41 92 36 54 22 40 40 28 66 33 13 80\n",
    "24 47 32 60 99 03 45 02 44 75 33 53 78 36 84 20 35 17 12 50\n",
    "32 98 81 28 64 23 67 10 26 38 40 67 59 54 70 66 18 38 64 70\n",
    "67 26 20 68 02 62 12 20 95 63 94 39 63 08 40 91 66 49 94 21\n",
    "24 55 58 05 66 73 99 26 97 17 78 78 96 83 14 88 34 89 63 72\n",
    "21 36 23 09 75 00 76 44 20 45 35 14 00 61 33 97 34 31 33 95\n",
    "78 17 53 28 22 75 31 67 15 94 03 80 04 62 16 14 09 53 56 92\n",
    "16 39 05 42 96 35 31 47 55 58 88 24 00 17 54 24 36 29 85 57\n",
    "86 56 00 48 35 71 89 07 05 44 44 37 44 60 21 58 51 54 17 58\n",
    "19 80 81 68 05 94 47 69 28 73 92 13 86 52 17 77 04 89 55 40\n",
    "04 52 08 83 97 35 99 16 07 97 57 32 16 26 26 79 33 27 98 66\n",
    "88 36 68 87 57 62 20 72 03 46 33 67 46 55 12 32 63 93 53 69\n",
    "04 42 16 73 38 25 39 11 24 94 72 18 08 46 29 32 40 62 76 36\n",
    "20 69 36 41 72 30 23 88 34 62 99 69 82 67 59 85 74 04 36 16\n",
    "20 73 35 29 78 31 90 01 74 31 49 71 48 86 81 16 23 57 05 54\n",
    "01 70 54 71 83 51 54 69 16 92 33 48 61 43 52 01 89 19 67 48\n",
    "\n",
    "The product of these numbers is 26 × 63 × 78 × 14 = 1788696.\n",
    "\n",
    "What is the greatest product of four adjacent numbers in the same direction (up, down, left, right, or diagonally) in the 20×20 grid?"
   ]
  },
  {
   "cell_type": "code",
   "execution_count": 1,
   "metadata": {},
   "outputs": [],
   "source": [
    "big_str = str(\n",
    "    \"08 02 22 97 38 15 00 40 00 75 04 05 07 78 52 12 50 77 91 08\"\n",
    "    \"49 49 99 40 17 81 18 57 60 87 17 40 98 43 69 48 04 56 62 00\"\n",
    "    \"81 49 31 73 55 79 14 29 93 71 40 67 53 88 30 03 49 13 36 65\"\n",
    "    \"52 70 95 23 04 60 11 42 69 24 68 56 01 32 56 71 37 02 36 91\"\n",
    "    \"22 31 16 71 51 67 63 89 41 92 36 54 22 40 40 28 66 33 13 80\"\n",
    "    \"24 47 32 60 99 03 45 02 44 75 33 53 78 36 84 20 35 17 12 50\"\n",
    "    \"32 98 81 28 64 23 67 10 26 38 40 67 59 54 70 66 18 38 64 70\"\n",
    "    \"67 26 20 68 02 62 12 20 95 63 94 39 63 08 40 91 66 49 94 21\"\n",
    "    \"24 55 58 05 66 73 99 26 97 17 78 78 96 83 14 88 34 89 63 72\"\n",
    "    \"21 36 23 09 75 00 76 44 20 45 35 14 00 61 33 97 34 31 33 95\"\n",
    "    \"78 17 53 28 22 75 31 67 15 94 03 80 04 62 16 14 09 53 56 92\"\n",
    "    \"16 39 05 42 96 35 31 47 55 58 88 24 00 17 54 24 36 29 85 57\"\n",
    "    \"86 56 00 48 35 71 89 07 05 44 44 37 44 60 21 58 51 54 17 58\"\n",
    "    \"19 80 81 68 05 94 47 69 28 73 92 13 86 52 17 77 04 89 55 40\"\n",
    "    \"04 52 08 83 97 35 99 16 07 97 57 32 16 26 26 79 33 27 98 66\"\n",
    "    \"88 36 68 87 57 62 20 72 03 46 33 67 46 55 12 32 63 93 53 69\"\n",
    "    \"04 42 16 73 38 25 39 11 24 94 72 18 08 46 29 32 40 62 76 36\"\n",
    "    \"20 69 36 41 72 30 23 88 34 62 99 69 82 67 59 85 74 04 36 16\"\n",
    "    \"20 73 35 29 78 31 90 01 74 31 49 71 48 86 81 16 23 57 05 54\"\n",
    "    \"01 70 54 71 83 51 54 69 16 92 33 48 61 43 52 01 89 19 67 48\")\n",
    "\n",
    "\n"
   ]
  },
  {
   "cell_type": "code",
   "execution_count": 2,
   "metadata": {},
   "outputs": [],
   "source": [
    "new_big_str = big_str.replace(\" \", \"\")"
   ]
  },
  {
   "cell_type": "code",
   "execution_count": 3,
   "metadata": {},
   "outputs": [
    {
     "data": {
      "text/plain": [
       "'08022297381500400075040507785212507791084949994017811857608717409843694804566200814931735579142993714067538830034913366552709523046011426924685601325671370236912231167151676389419236542240402866331380244732609903450244753353783684203517125032988128642367102638406759547066183864706726206802621220956394396308409166499421245558056673992697177878968314883489637221362309750076442045351400613397343133957817532822753167159403800462161409535692163905429635314755588824001754243629855786560048357189070544443744602158515417581980816805944769287392138652177704895540045208839735991607975732162626793327986688366887576220720346336746551232639353690442167338253911249472180846293240627636206936417230238834629969826759857404361620733529783190017431497148868116235705540170547183515469169233486143520189196748'"
      ]
     },
     "execution_count": 3,
     "metadata": {},
     "output_type": "execute_result"
    }
   ],
   "source": [
    "new_big_str"
   ]
  },
  {
   "cell_type": "code",
   "execution_count": 4,
   "metadata": {},
   "outputs": [],
   "source": [
    "'''Identify which positions in the string are off-limits start points for horizontal products; e.g. starting on any of the last three \"columns\" for any row.'''\n",
    "'''Place the exclusions in a list to reference later.'''\n",
    "horiz_exclusions = [34]\n",
    "for i in range(34, 800, 40):\n",
    "    horiz_exclusions.append(i + 2)\n",
    "    horiz_exclusions.append(i + 4)\n",
    "    if i + 40 < 800:\n",
    "        horiz_exclusions.append(i + 40)"
   ]
  },
  {
   "cell_type": "code",
   "execution_count": 5,
   "metadata": {
    "collapsed": true,
    "jupyter": {
     "outputs_hidden": true
    }
   },
   "outputs": [
    {
     "data": {
      "text/plain": [
       "[34,\n",
       " 36,\n",
       " 38,\n",
       " 74,\n",
       " 76,\n",
       " 78,\n",
       " 114,\n",
       " 116,\n",
       " 118,\n",
       " 154,\n",
       " 156,\n",
       " 158,\n",
       " 194,\n",
       " 196,\n",
       " 198,\n",
       " 234,\n",
       " 236,\n",
       " 238,\n",
       " 274,\n",
       " 276,\n",
       " 278,\n",
       " 314,\n",
       " 316,\n",
       " 318,\n",
       " 354,\n",
       " 356,\n",
       " 358,\n",
       " 394,\n",
       " 396,\n",
       " 398,\n",
       " 434,\n",
       " 436,\n",
       " 438,\n",
       " 474,\n",
       " 476,\n",
       " 478,\n",
       " 514,\n",
       " 516,\n",
       " 518,\n",
       " 554,\n",
       " 556,\n",
       " 558,\n",
       " 594,\n",
       " 596,\n",
       " 598,\n",
       " 634,\n",
       " 636,\n",
       " 638,\n",
       " 674,\n",
       " 676,\n",
       " 678,\n",
       " 714,\n",
       " 716,\n",
       " 718,\n",
       " 754,\n",
       " 756,\n",
       " 758,\n",
       " 794,\n",
       " 796,\n",
       " 798]"
      ]
     },
     "execution_count": 5,
     "metadata": {},
     "output_type": "execute_result"
    }
   ],
   "source": [
    "horiz_exclusions"
   ]
  },
  {
   "cell_type": "code",
   "execution_count": 6,
   "metadata": {},
   "outputs": [
    {
     "data": {
      "text/plain": [
       "48477312"
      ]
     },
     "execution_count": 6,
     "metadata": {},
     "output_type": "execute_result"
    }
   ],
   "source": [
    "def horizontal():\n",
    "    list = []\n",
    "    \n",
    "    a_start = int(-2)\n",
    "\n",
    "    for start_index in range(a_start,398):\n",
    "        a_start += 2\n",
    "\n",
    "        b_start = a_start + 2\n",
    "        c_start = b_start + 2\n",
    "        d_start = c_start + 2\n",
    "\n",
    "        a_end = a_start + 2\n",
    "        b_end = b_start + 2    \n",
    "        c_end = c_start + 2\n",
    "        d_end = d_start + 2\n",
    "\n",
    "        a = new_big_str [a_start:a_end]\n",
    "        b = new_big_str [b_start:b_end]\n",
    "        c = new_big_str [c_start:c_end]\n",
    "        d = new_big_str [d_start:d_end]\n",
    "        \n",
    "        if a_start not in horiz_exclusions:\n",
    "            try:\n",
    "                i = int(a) * int(b) * int(c) * int(d)\n",
    "            except ValueError:\n",
    "                pass\n",
    "            list.append(i)\n",
    "    return max(list)\n",
    "    \n",
    "horizontal()"
   ]
  },
  {
   "cell_type": "code",
   "execution_count": 7,
   "metadata": {},
   "outputs": [],
   "source": [
    "vert_exclusions = []\n",
    "for i in range(680, 800, 2):\n",
    "    vert_exclusions.append(i)"
   ]
  },
  {
   "cell_type": "code",
   "execution_count": 8,
   "metadata": {},
   "outputs": [
    {
     "data": {
      "text/plain": [
       "51267216"
      ]
     },
     "execution_count": 8,
     "metadata": {},
     "output_type": "execute_result"
    }
   ],
   "source": [
    "def vertical():\n",
    "    list = []\n",
    "    a_start = int(-2)\n",
    "\n",
    "    for start_index in range(a_start,398):\n",
    "        a_start += int(2)\n",
    "\n",
    "        b_start = a_start + 40\n",
    "        c_start = b_start + 40\n",
    "        d_start = c_start + 40\n",
    "\n",
    "        a_end = a_start + 2\n",
    "        b_end = b_start + 2    \n",
    "        c_end = c_start + 2\n",
    "        d_end = d_start + 2\n",
    "\n",
    "\n",
    "        a = new_big_str [a_start:a_end]\n",
    "        b = new_big_str [b_start:b_end]\n",
    "        c = new_big_str [c_start:c_end]\n",
    "        d = new_big_str [d_start:d_end]\n",
    "        if a_start not in vert_exclusions:\n",
    "            try:\n",
    "                i = int(a) * int(b) * int(c) * int(d)\n",
    "            except ValueError:\n",
    "                pass\n",
    "            list.append(i)\n",
    "    return max(list)\n",
    "vertical()"
   ]
  },
  {
   "cell_type": "code",
   "execution_count": 10,
   "metadata": {},
   "outputs": [
    {
     "data": {
      "text/plain": [
       "50386644"
      ]
     },
     "execution_count": 10,
     "metadata": {},
     "output_type": "execute_result"
    }
   ],
   "source": [
    "def right_diagonal():\n",
    "    list = []\n",
    "    a_start = int(-2)\n",
    "\n",
    "    for start_index in range(a_start,398):\n",
    "        a_start += int(2)\n",
    "\n",
    "        b_start = a_start + 21\n",
    "        c_start = b_start + 21\n",
    "        d_start = c_start + 21\n",
    "\n",
    "        a_end = a_start + 2\n",
    "        b_end = b_start + 2    \n",
    "        c_end = c_start + 2\n",
    "        d_end = d_start + 2\n",
    "\n",
    "\n",
    "        a = new_big_str [a_start:a_end]\n",
    "        b = new_big_str [b_start:b_end]\n",
    "        c = new_big_str [c_start:c_end]\n",
    "        d = new_big_str [d_start:d_end]\n",
    "        if a_start not in horiz_exclusions and a_start not in vert_exclusions:\n",
    "            try:\n",
    "                i = int(a) * int(b) * int(c) * int(d)\n",
    "            except ValueError:\n",
    "                pass\n",
    "            list.append(i)\n",
    "    return max(list)\n",
    "right_diagonal()"
   ]
  },
  {
   "cell_type": "code",
   "execution_count": 16,
   "metadata": {
    "collapsed": true,
    "jupyter": {
     "outputs_hidden": true
    }
   },
   "outputs": [
    {
     "data": {
      "text/plain": [
       "[0,\n",
       " 2,\n",
       " 4,\n",
       " 40,\n",
       " 42,\n",
       " 44,\n",
       " 80,\n",
       " 82,\n",
       " 84,\n",
       " 120,\n",
       " 122,\n",
       " 124,\n",
       " 160,\n",
       " 162,\n",
       " 164,\n",
       " 200,\n",
       " 202,\n",
       " 204,\n",
       " 240,\n",
       " 242,\n",
       " 244,\n",
       " 280,\n",
       " 282,\n",
       " 284,\n",
       " 320,\n",
       " 322,\n",
       " 324,\n",
       " 360,\n",
       " 362,\n",
       " 364,\n",
       " 400,\n",
       " 402,\n",
       " 404,\n",
       " 440,\n",
       " 442,\n",
       " 444,\n",
       " 480,\n",
       " 482,\n",
       " 484,\n",
       " 520,\n",
       " 522,\n",
       " 524,\n",
       " 560,\n",
       " 562,\n",
       " 564,\n",
       " 600,\n",
       " 602,\n",
       " 604,\n",
       " 640,\n",
       " 642,\n",
       " 644,\n",
       " 680,\n",
       " 682,\n",
       " 684,\n",
       " 720,\n",
       " 722,\n",
       " 724,\n",
       " 760,\n",
       " 762,\n",
       " 764]"
      ]
     },
     "execution_count": 16,
     "metadata": {},
     "output_type": "execute_result"
    }
   ],
   "source": [
    "left_exclusions = []\n",
    "for i in range(-2, 764, 40):\n",
    "    left_exclusions.append(i + 2)\n",
    "    left_exclusions.append(i + 4)\n",
    "    left_exclusions.append(i + 6)\n",
    "left_exclusions"
   ]
  },
  {
   "cell_type": "code",
   "execution_count": 29,
   "metadata": {},
   "outputs": [],
   "source": [
    "def left_diagonal():\n",
    "    list = []\n",
    "    a_start = int(4)\n",
    "\n",
    "    for start_index in range(a_start,398):\n",
    "        a_start += int(2)\n",
    "\n",
    "        b_start = a_start + 38\n",
    "        c_start = b_start + 38\n",
    "        d_start = c_start + 38\n",
    "\n",
    "        a_end = a_start + 2\n",
    "        b_end = b_start + 2    \n",
    "        c_end = c_start + 2\n",
    "        d_end = d_start + 2\n",
    "\n",
    "\n",
    "        a = new_big_str [a_start:a_end]\n",
    "        b = new_big_str [b_start:b_end]\n",
    "        c = new_big_str [c_start:c_end]\n",
    "        d = new_big_str [d_start:d_end]\n",
    "        if a_start not in left_exclusions and a_start not in vert_exclusions:\n",
    "            try:\n",
    "                i = int(a) * int(b) * int(c) * int(d)\n",
    "            except ValueError:\n",
    "                pass\n",
    "            list.append(i)\n",
    "    return max(list)\n",
    "left_diagonal()"
   ]
  },
  {
   "cell_type": "code",
   "execution_count": 31,
   "metadata": {},
   "outputs": [
    {
     "data": {
      "text/plain": [
       "70600674"
      ]
     },
     "execution_count": 31,
     "metadata": {},
     "output_type": "execute_result"
    }
   ],
   "source": [
    "max(horizontal(), vertical(), right_diagonal(), left_diagonal())"
   ]
  },
  {
   "cell_type": "code",
   "execution_count": null,
   "metadata": {},
   "outputs": [],
   "source": []
  }
 ],
 "metadata": {
  "kernelspec": {
   "display_name": "Python 3",
   "language": "python",
   "name": "python3"
  },
  "language_info": {
   "codemirror_mode": {
    "name": "ipython",
    "version": 3
   },
   "file_extension": ".py",
   "mimetype": "text/x-python",
   "name": "python",
   "nbconvert_exporter": "python",
   "pygments_lexer": "ipython3",
   "version": "3.8.5"
  }
 },
 "nbformat": 4,
 "nbformat_minor": 4
}
