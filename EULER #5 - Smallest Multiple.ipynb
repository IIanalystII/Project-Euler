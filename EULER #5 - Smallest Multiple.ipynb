{
 "cells": [
  {
   "cell_type": "markdown",
   "metadata": {},
   "source": [
    "# Problem 5 - Smallest Multiple \n",
    "2520 is the smallest number that can be divided by each of the numbers from 1 to 10 without any remainder.\n",
    "\n",
    "What is the smallest positive number that is evenly divisible by all of the numbers from 1 to 20?"
   ]
  },
  {
   "cell_type": "code",
   "execution_count": 14,
   "metadata": {},
   "outputs": [
    {
     "name": "stdout",
     "output_type": "stream",
     "text": [
      "232792560\n"
     ]
    }
   ],
   "source": [
    "def ans():\n",
    "    for i in range(1,1000000000000000,1):\n",
    "        if i%20 == 0:\n",
    "            if i%19 == 0:\n",
    "                if i%18 == 0:\n",
    "                    if i%17 ==0:\n",
    "                        if i%16 ==0:\n",
    "                            if i%15 ==0:\n",
    "                                if i%14 ==0:\n",
    "                                    if i%13 ==0:\n",
    "                                        if i%12 == 0:\n",
    "                                            if i%11 ==0:\n",
    "                                                print(i)\n",
    "                                                break\n",
    "ans()"
   ]
  },
  {
   "cell_type": "code",
   "execution_count": null,
   "metadata": {},
   "outputs": [],
   "source": [
    "0"
   ]
  }
 ],
 "metadata": {
  "kernelspec": {
   "display_name": "Python 3",
   "language": "python",
   "name": "python3"
  },
  "language_info": {
   "codemirror_mode": {
    "name": "ipython",
    "version": 3
   },
   "file_extension": ".py",
   "mimetype": "text/x-python",
   "name": "python",
   "nbconvert_exporter": "python",
   "pygments_lexer": "ipython3",
   "version": "3.8.5"
  }
 },
 "nbformat": 4,
 "nbformat_minor": 4
}
