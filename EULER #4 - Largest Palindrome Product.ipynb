{
 "cells": [
  {
   "cell_type": "markdown",
   "metadata": {},
   "source": [
    "# Problem 4 - Largest Palindrome Product\n",
    "A palindromic number reads the same both ways. The largest palindrome made from the product of two 2-digit numbers is 9009 = 91 × 99.\n",
    "\n",
    "Find the largest palindrome made from the product of two 3-digit numbers."
   ]
  },
  {
   "cell_type": "code",
   "execution_count": 1,
   "metadata": {},
   "outputs": [
    {
     "name": "stdout",
     "output_type": "stream",
     "text": [
      "906609\n"
     ]
    }
   ],
   "source": [
    "#Reverse sub_function defined first. Note 999 * 999 = 998001\n",
    "def rev_num(n):\n",
    "    Result = 0\n",
    "    while(n>0):\n",
    "        Remainder = n%10\n",
    "        Result = Result * 10 + Remainder\n",
    "        n = n // 10\n",
    "    return Result\n",
    "\n",
    "def ans():\n",
    "    for i in range(998001,100000,-1):\n",
    "        n = i\n",
    "        if i == rev_num(n):\n",
    "            palindrome = i\n",
    "            for j in range(999,950,-1):\n",
    "                if palindrome%j == 0:\n",
    "                    factor = j\n",
    "                    other_factor = palindrome / factor\n",
    "                    if other_factor < 1000:\n",
    "                        return print(palindrome)\n",
    "ans()"
   ]
  }
 ],
 "metadata": {
  "kernelspec": {
   "display_name": "Python 3",
   "language": "python",
   "name": "python3"
  },
  "language_info": {
   "codemirror_mode": {
    "name": "ipython",
    "version": 3
   },
   "file_extension": ".py",
   "mimetype": "text/x-python",
   "name": "python",
   "nbconvert_exporter": "python",
   "pygments_lexer": "ipython3",
   "version": "3.8.5"
  }
 },
 "nbformat": 4,
 "nbformat_minor": 4
}
