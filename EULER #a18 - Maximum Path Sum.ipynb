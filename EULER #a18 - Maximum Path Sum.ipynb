{
 "cells": [
  {
   "cell_type": "markdown",
   "metadata": {},
   "source": [
    "# Problem 18 - Maximum Path Sum I\n",
    "By starting at the top of the triangle below and moving to adjacent numbers on the row below, the maximum total from top to bottom is 23.\n",
    "\n",
    "3\n",
    "7 4\n",
    "2 4 6\n",
    "8 5 9 3\n",
    "\n",
    "That is, 3 + 7 + 4 + 9 = 23.\n",
    "\n",
    "Find the maximum total from top to bottom of the triangle below:\n",
    "\n",
    "                            75\n",
    "                           95 64\n",
    "                          17 47 82\n",
    "                        18 35 87 10\n",
    "                       20 04 82 47 65\n",
    "                      19 01 23 75 03 34\n",
    "                     88 02 77 73 07 63 67\n",
    "                    99 65 04 28 06 16 70 92\n",
    "                   41 41 26 56 83 40 80 70 33\n",
    "                  41 48 72 33 47 32 37 16 94 29\n",
    "                 53 71 44 65 25 43 91 52 97 51 14\n",
    "                70 11 33 28 77 73 17 78 39 68 17 57\n",
    "              91 71 52 38 17 14 91 43 58 50 27 29 48\n",
    "             63 66 04 68 89 53 67 30 73 16 69 87 40 31\n",
    "            04 62 98 27 23 09 70 98 73 93 38 53 60 04 23\n",
    "\n",
    "NOTE: As there are only 16384 routes, it is possible to solve this problem by trying every route. However, Problem 67, is the same challenge with a triangle containing one-hundred rows; it cannot be solved by brute force, and requires a clever method! ;o)"
   ]
  },
  {
   "cell_type": "code",
   "execution_count": 1,
   "metadata": {},
   "outputs": [
    {
     "data": {
      "text/plain": [
       "'3: The chosen figures becomes the top of the new triangle.'"
      ]
     },
     "execution_count": 1,
     "metadata": {},
     "output_type": "execute_result"
    }
   ],
   "source": [
    "'''MY REASONING:'''\n",
    "'''1: At each Decision Point: E.g. 75, there are two Number Options: E.g. 95 or 64.'''\n",
    "'''2: Beneath these two options at each Decision Point we could picture an INTERIOR Triangle beginning: E.g. \"top = 47 over base = (35 or 87), and so on...\"'''\n",
    "'''3: My logic will argue that for each decision point, all figures contained in the interior triangle for that decision point are irrelevant to right decision.'''\n",
    "'''4: The right path can also not be chosen by simply choosing the largest number option at each point.'''\n",
    "'''5: This is because your future total is detrimented by the opportunity cost of values you can no longer pick because you may have forked a different path.'''\n",
    "'''6: For the reason, the best path at any decision point will be  where:'''\n",
    "\n",
    "'''1: Take the sum of each EXTERIOR set of numbers in each direction: E.g. Sum of 64, 82, ... and take Sum of 95, 17, ...'''\n",
    "'''2: Which ever direction has a higher sum will be the right path.'''\n",
    "'''3: The chosen figures becomes the top of the new triangle.'''\n",
    "            "
   ]
  },
  {
   "cell_type": "code",
   "execution_count": 108,
   "metadata": {},
   "outputs": [],
   "source": [
    "'''dictionary assigning each row of strings two an integer that can be referenced by rows [integer] [start:end];''' \n",
    "'''the second set of brackets will be the string positions'''\n",
    "triangle = [\n",
    "[75],\n",
    "[95, 64],\n",
    "[17, 47, 82],\n",
    "[18, 35, 87, 10],\n",
    "[20, 4, 82, 47, 65,],\n",
    "[19, 1, 23, 75, 3, 34],\n",
    "[88, 2, 77, 73, 7, 63, 67],\n",
    "[99, 65, 4, 28, 6, 16, 70, 92],\n",
    "[41, 41, 26, 56, 83, 40, 80, 70, 33],\n",
    "[41, 48, 72, 33, 47, 32, 37, 16, 94, 29],\n",
    "[53, 71, 44, 65, 25, 43, 91, 52, 97, 51, 14],\n",
    "[70, 11, 33, 28, 77, 73, 17, 78, 39, 68, 17, 57],\n",
    "[91, 71, 52, 38, 17, 14, 91, 43, 58, 50, 27, 29, 48],\n",
    "[63, 66, 4, 68, 89, 53, 67, 30, 73, 16, 69, 87, 40, 31],\n",
    "[4, 62, 98, 27, 23, 9, 70, 98, 73, 93, 38, 53, 60, 4, 23]]"
   ]
  },
  {
   "cell_type": "code",
   "execution_count": 109,
   "metadata": {},
   "outputs": [
    {
     "data": {
      "text/plain": [
       "[[75],\n",
       " [95, 64],\n",
       " [17, 47, 82],\n",
       " [18, 35, 87, 10],\n",
       " [20, 4, 82, 47, 65],\n",
       " [19, 1, 23, 75, 3, 34],\n",
       " [88, 2, 77, 73, 7, 63, 67],\n",
       " [99, 65, 4, 28, 6, 16, 70, 92],\n",
       " [41, 41, 26, 56, 83, 40, 80, 70, 33],\n",
       " [41, 48, 72, 33, 47, 32, 37, 16, 94, 29],\n",
       " [53, 71, 44, 65, 25, 43, 91, 52, 97, 51, 14],\n",
       " [70, 11, 33, 28, 77, 73, 17, 78, 39, 68, 17, 57],\n",
       " [91, 71, 52, 38, 17, 14, 91, 43, 58, 50, 27, 29, 48],\n",
       " [63, 66, 4, 68, 89, 53, 67, 30, 73, 16, 69, 87, 40, 31],\n",
       " [4, 62, 98, 27, 23, 9, 70, 98, 73, 93, 38, 53, 60, 4, 23]]"
      ]
     },
     "execution_count": 109,
     "metadata": {},
     "output_type": "execute_result"
    }
   ],
   "source": [
    "triangle"
   ]
  },
  {
   "cell_type": "code",
   "execution_count": 112,
   "metadata": {},
   "outputs": [
    {
     "name": "stdout",
     "output_type": "stream",
     "text": [
      "[[1074]]\n"
     ]
    }
   ],
   "source": [
    "while(len(triangle) != 1):\n",
    "    for i in range(len(triangle[-2])):\n",
    "        triangle[-2][i] = triangle[-2][i] + max(triangle[-1][i], triangle[-1][i+1])\n",
    "    triangle.pop(-1)\n",
    "print(triangle)"
   ]
  },
  {
   "cell_type": "code",
   "execution_count": null,
   "metadata": {},
   "outputs": [],
   "source": []
  }
 ],
 "metadata": {
  "kernelspec": {
   "display_name": "Python 3",
   "language": "python",
   "name": "python3"
  },
  "language_info": {
   "codemirror_mode": {
    "name": "ipython",
    "version": 3
   },
   "file_extension": ".py",
   "mimetype": "text/x-python",
   "name": "python",
   "nbconvert_exporter": "python",
   "pygments_lexer": "ipython3",
   "version": "3.8.5"
  }
 },
 "nbformat": 4,
 "nbformat_minor": 4
}
